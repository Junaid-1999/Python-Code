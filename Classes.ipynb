{
 "cells": [
  {
   "attachments": {},
   "cell_type": "markdown",
   "metadata": {},
   "source": [
    "**CLASSE**\n",
    "\n",
    "**SIMPLE CALCULATOR USING CLASS**\n",
    "\n",
    "**MINI CLI ATM**"
   ]
  },
  {
   "cell_type": "code",
   "execution_count": 33,
   "metadata": {},
   "outputs": [
    {
     "name": "stdout",
     "output_type": "stream",
     "text": [
      "junaid\n",
      "1\n"
     ]
    }
   ],
   "source": [
    "class student:\n",
    "    def __init__(self,name,id):\n",
    "        self.name=name\n",
    "        self.id=id\n",
    "s=student('junaid',1)\n",
    "print(s.name)\n",
    "print(s.id)\n",
    "        "
   ]
  },
  {
   "attachments": {},
   "cell_type": "markdown",
   "metadata": {},
   "source": [
    "**difference between function and method**\n",
    "\n",
    "function is basically the general avialble for everyone which is outside the class.\n",
    "on the other side method is inside the class which can be accessed by the object of that respective class\n"
   ]
  },
  {
   "cell_type": "code",
   "execution_count": 34,
   "metadata": {},
   "outputs": [
    {
     "name": "stdout",
     "output_type": "stream",
     "text": [
      "junaid\n",
      "1\n",
      "junaid\n",
      "1 act in darama\n"
     ]
    }
   ],
   "source": [
    "class student:\n",
    "    def __init__(self,name,id):\n",
    "        self.name=name\n",
    "        self.id=id\n",
    "    def classs(self):\n",
    "        print(self.name)\n",
    "    def act(self):\n",
    "        print(self.id,'act in darama')\n",
    "s=student('junaid',1)\n",
    "print(s.name)\n",
    "print(s.id)\n",
    "s.classs()\n",
    "s.act()\n",
    "        "
   ]
  },
  {
   "cell_type": "code",
   "execution_count": 35,
   "metadata": {},
   "outputs": [
    {
     "name": "stdout",
     "output_type": "stream",
     "text": [
      "junaid software developer Pakistan 127000\n"
     ]
    }
   ],
   "source": [
    "class Employee:\n",
    "    def __init__(self,name,designation,country,salary):\n",
    "        self.name=name\n",
    "        self.salary=salary\n",
    "        self.country=country\n",
    "        self.designation=designation\n",
    "e1=Employee('junaid','software developer','Pakistan',127000)\n",
    "print(e1.name,e1.designation,e1.country,e1.salary)\n"
   ]
  },
  {
   "cell_type": "code",
   "execution_count": 36,
   "metadata": {},
   "outputs": [
    {
     "name": "stdout",
     "output_type": "stream",
     "text": [
      "junaid software developer Pakistan 127000\n",
      "254000\n"
     ]
    }
   ],
   "source": [
    "class Employee:\n",
    "    increment_salary=2\n",
    "    def __init__(self,name,designation,country,salary):\n",
    "        self.name=name\n",
    "        self.salary=salary\n",
    "        self.country=country\n",
    "        self.designation=designation\n",
    "    def increase(self):\n",
    "        self.salary=self.salary*self.increment_salary\n",
    "        print(self.salary)\n",
    "e1=Employee('junaid','software developer','Pakistan',127000)\n",
    "print(e1.name,e1.designation,e1.country,e1.salary)\n",
    "e1.increase()\n"
   ]
  },
  {
   "attachments": {},
   "cell_type": "markdown",
   "metadata": {},
   "source": [
    "**Below is the example of class variable and function variable you see python will first search the variable within constructure or initial method not in class variable**"
   ]
  },
  {
   "cell_type": "code",
   "execution_count": 37,
   "metadata": {},
   "outputs": [
    {
     "name": "stdout",
     "output_type": "stream",
     "text": [
      "junaid software developer Pakistan 127000\n",
      "127000\n",
      "{'__module__': '__main__', 'increment_salary': 2, '__init__': <function Employee.__init__ at 0x0000015D6D3E3310>, 'increase': <function Employee.increase at 0x0000015D6D3E3280>, '__dict__': <attribute '__dict__' of 'Employee' objects>, '__weakref__': <attribute '__weakref__' of 'Employee' objects>, '__doc__': None}\n"
     ]
    }
   ],
   "source": [
    "class Employee:\n",
    "    increment_salary=2\n",
    "    def __init__(self,name,designation,country,salary):\n",
    "        self.name=name\n",
    "        self.salary=salary\n",
    "        self.country=country\n",
    "        self.designation=designation\n",
    "        self.increment_salary=1\n",
    "    def increase(self):\n",
    "        self.salary=self.salary*self.increment_salary\n",
    "        print(self.salary)\n",
    "e1=Employee('junaid','software developer','Pakistan',127000)\n",
    "print(e1.name,e1.designation,e1.country,e1.salary)\n",
    "e1.increase()\n",
    "print(Employee.__dict__)\n"
   ]
  },
  {
   "attachments": {},
   "cell_type": "markdown",
   "metadata": {},
   "source": [
    "**Calculator**"
   ]
  },
  {
   "cell_type": "code",
   "execution_count": 40,
   "metadata": {},
   "outputs": [
    {
     "name": "stdout",
     "output_type": "stream",
     "text": [
      "The subtraction of the two numbers is: 22\n"
     ]
    }
   ],
   "source": [
    "class calc:\n",
    "       \n",
    "    def __init__(self,n1,n2):\n",
    "        self.n1=n1\n",
    "        self.n2=n2\n",
    "        \n",
    "    def add(self):\n",
    "        return self.n1+self.n2\n",
    "    def minus(self):\n",
    "        return self.n1-self.n2\n",
    "    def mul(self):\n",
    "        return self.n1*self.n2\n",
    "    def divid(self):\n",
    "        return self.n1/self.n2\n",
    "n1 = int(input('Enter first number: '))\n",
    "n2 = int(input('Enter second number: '))\n",
    "option=int(input('enter'))\n",
    "c1=calc(n1,n2)\n",
    "if option==1:\n",
    "    print(\"The sum of the two numbers is:\", c1.add())\n",
    "elif option ==2:\n",
    "    print(\"The subtraction of the two numbers is:\", c1.minus())\n",
    "elif option ==3:\n",
    "    print(\"The Multiplication of the two numbers is:\", c1.mul())\n",
    "elif option ==4:\n",
    "    print(\"The division of the two numbers is:\", c1.divid())\n",
    "else:\n",
    "    print('invalid')\n"
   ]
  },
  {
   "cell_type": "code",
   "execution_count": null,
   "metadata": {},
   "outputs": [],
   "source": []
  },
  {
   "cell_type": "code",
   "execution_count": null,
   "metadata": {},
   "outputs": [
    {
     "name": "stdout",
     "output_type": "stream",
     "text": [
      "your pin is created 123\n",
      "deposit successful\n",
      "withdrawal successful\n",
      "your balance is: 1222\n"
     ]
    }
   ],
   "source": [
    "class Bank_ATM:\n",
    "       \n",
    "    def __init__(self):\n",
    "        self.pin=''\n",
    "        self.balance=0\n",
    "        \n",
    "    def create_pin(self):\n",
    "        self.pin=input('enter your pin')\n",
    "        print('your pin is created',self.pin)\n",
    "    \n",
    "    def deposit(self):\n",
    "        p=input('enter your pin')\n",
    "        if p==self.pin:\n",
    "            amount=int(input('enter your amount for depositing: '))\n",
    "            self.balance=amount+self.balance\n",
    "            print('deposit successful')\n",
    "        else:\n",
    "            print('invalid pin')\n",
    "    \n",
    "    def withdraw(self):\n",
    "        p=input('enter your pin')\n",
    "        if p==self.pin:\n",
    "            withdraww=int(input('enter amount for withdrawal: '))\n",
    "            if withdraww<=self.balance:\n",
    "                self.balance=self.balance-withdraww\n",
    "                print('withdrawal successful')\n",
    "            else:\n",
    "                print('insufficient balance')\n",
    "        else:\n",
    "            print('invalid pin')\n",
    "       \n",
    "    def check_balance(self):\n",
    "        p=input('enter pin: ')\n",
    "        if p==self.pin:\n",
    "            print('your balance is:', self.balance)\n",
    "        else:\n",
    "            print('invalid pin')\n",
    "    \n",
    "    def menu(self):\n",
    "        n1 = input('choose the menu: enter 1 to create pin. Enter 2 to deposit. Enter 3 for withdrawal. Enter 4 to check balance. Enter 5 to exit: ')\n",
    "        if n1=='1':\n",
    "             self.create_pin()\n",
    "        elif n1=='2':\n",
    "            self.deposit()\n",
    "        elif n1=='3':\n",
    "            self.withdraw()\n",
    "        elif n1=='4':\n",
    "            self.check_balance()\n",
    "        elif n1=='5':\n",
    "            print('bye')\n",
    "        else:\n",
    "            print('invalid choice')\n",
    "            \n",
    "acc1=Bank_ATM()\n",
    "acc1.menu()\n",
    "acc1.deposit()\n",
    "acc1.withdraw()\n",
    "acc1.check_balance()"
   ]
  },
  {
   "cell_type": "code",
   "execution_count": null,
   "metadata": {},
   "outputs": [],
   "source": []
  }
 ],
 "metadata": {
  "kernelspec": {
   "display_name": "Python 3",
   "language": "python",
   "name": "python3"
  },
  "language_info": {
   "codemirror_mode": {
    "name": "ipython",
    "version": 3
   },
   "file_extension": ".py",
   "mimetype": "text/x-python",
   "name": "python",
   "nbconvert_exporter": "python",
   "pygments_lexer": "ipython3",
   "version": "3.9.10"
  },
  "orig_nbformat": 4
 },
 "nbformat": 4,
 "nbformat_minor": 2
}
