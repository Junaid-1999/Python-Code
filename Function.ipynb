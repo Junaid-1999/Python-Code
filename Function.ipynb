{
 "cells": [
  {
   "cell_type": "code",
   "execution_count": null,
   "metadata": {},
   "outputs": [],
   "source": []
  },
  {
   "cell_type": "markdown",
   "metadata": {},
   "source": []
  },
  {
   "cell_type": "code",
   "execution_count": 60,
   "metadata": {},
   "outputs": [
    {
     "name": "stdout",
     "output_type": "stream",
     "text": [
      "5\n"
     ]
    }
   ],
   "source": [
    "def plus():\n",
    "    a=2+3\n",
    "    print(a)\n",
    "plus()"
   ]
  },
  {
   "cell_type": "code",
   "execution_count": 61,
   "metadata": {},
   "outputs": [
    {
     "name": "stdout",
     "output_type": "stream",
     "text": [
      "hy\n",
      "how are you\n",
      "Where are you from\n",
      "junaid\n"
     ]
    }
   ],
   "source": [
    "def new():\n",
    "    print('hy')\n",
    "    print('how are you')\n",
    "    print('Where are you from')\n",
    "new()\n",
    "print('junaid')\n",
    "\n"
   ]
  },
  {
   "cell_type": "code",
   "execution_count": 62,
   "metadata": {},
   "outputs": [
    {
     "name": "stdout",
     "output_type": "stream",
     "text": [
      "5\n"
     ]
    },
    {
     "ename": "TypeError",
     "evalue": "unsupported operand type(s) for *: 'NoneType' and 'int'",
     "output_type": "error",
     "traceback": [
      "\u001b[1;31m---------------------------------------------------------------------------\u001b[0m",
      "\u001b[1;31mTypeError\u001b[0m                                 Traceback (most recent call last)",
      "\u001b[1;32md:\\My Python Learning\\Function.ipynb Cell 5\u001b[0m in \u001b[0;36m4\n\u001b[0;32m      <a href='vscode-notebook-cell:/d%3A/My%20Python%20Learning/Function.ipynb#X43sZmlsZQ%3D%3D?line=1'>2</a>\u001b[0m     a\u001b[39m=\u001b[39m\u001b[39m2\u001b[39m\u001b[39m+\u001b[39m\u001b[39m3\u001b[39m\n\u001b[0;32m      <a href='vscode-notebook-cell:/d%3A/My%20Python%20Learning/Function.ipynb#X43sZmlsZQ%3D%3D?line=2'>3</a>\u001b[0m     \u001b[39mprint\u001b[39m(a)\n\u001b[1;32m----> <a href='vscode-notebook-cell:/d%3A/My%20Python%20Learning/Function.ipynb#X43sZmlsZQ%3D%3D?line=3'>4</a>\u001b[0m aa\u001b[39m=\u001b[39mplus()\u001b[39m*\u001b[39;49m\u001b[39m2\u001b[39;49m\n\u001b[0;32m      <a href='vscode-notebook-cell:/d%3A/My%20Python%20Learning/Function.ipynb#X43sZmlsZQ%3D%3D?line=4'>5</a>\u001b[0m \u001b[39mprint\u001b[39m(aa)\n",
      "\u001b[1;31mTypeError\u001b[0m: unsupported operand type(s) for *: 'NoneType' and 'int'"
     ]
    }
   ],
   "source": [
    "def plus():\n",
    "    a=2+3\n",
    "    print(a)\n",
    "aa=plus()*2\n",
    "print(aa)\n",
    "# in this error woll happen because it not hold any value \n"
   ]
  },
  {
   "cell_type": "code",
   "execution_count": 64,
   "metadata": {},
   "outputs": [
    {
     "name": "stdout",
     "output_type": "stream",
     "text": [
      "10\n"
     ]
    }
   ],
   "source": [
    "def plus():\n",
    "    a=2+3\n",
    "    return a\n",
    "aa=plus()*2\n",
    "print(aa)\n",
    "\n"
   ]
  },
  {
   "cell_type": "code",
   "execution_count": null,
   "metadata": {},
   "outputs": [],
   "source": [
    "def table():\n",
    "    a=int(input('Enter Number you want to print  '))\n",
    "    for i in range(1,11):\n",
    "        print(a,'x',i, a*i)\n",
    "table()"
   ]
  },
  {
   "attachments": {},
   "cell_type": "markdown",
   "metadata": {},
   "source": [
    "**LOCAL AND GOBAL VARIABLE**"
   ]
  },
  {
   "attachments": {},
   "cell_type": "markdown",
   "metadata": {},
   "source": [
    "Local variable are those which are used inside in fuction and cannot be access outside from function. Below code is the example of local variable"
   ]
  },
  {
   "cell_type": "code",
   "execution_count": 58,
   "metadata": {},
   "outputs": [
    {
     "name": "stdout",
     "output_type": "stream",
     "text": [
      "JUNAID iqbal\n"
     ]
    }
   ],
   "source": [
    "def namee():\n",
    "    first_name='JUNAID'\n",
    "    last_name='iqbal'\n",
    "    print(first_name,last_name)\n",
    "namee()"
   ]
  },
  {
   "attachments": {},
   "cell_type": "markdown",
   "metadata": {},
   "source": [
    "In below example error will happen because i access the first_name variable outside the function which cause error because first_name variable is local not global"
   ]
  },
  {
   "cell_type": "code",
   "execution_count": 59,
   "metadata": {},
   "outputs": [
    {
     "ename": "NameError",
     "evalue": "name 'first_name' is not defined",
     "output_type": "error",
     "traceback": [
      "\u001b[1;31m---------------------------------------------------------------------------\u001b[0m",
      "\u001b[1;31mNameError\u001b[0m                                 Traceback (most recent call last)",
      "\u001b[1;32md:\\My Python Learning\\Function.ipynb Cell 6\u001b[0m in \u001b[0;36m5\n\u001b[0;32m      <a href='vscode-notebook-cell:/d%3A/My%20Python%20Learning/Function.ipynb#W5sZmlsZQ%3D%3D?line=2'>3</a>\u001b[0m     last_name\u001b[39m=\u001b[39m\u001b[39m'\u001b[39m\u001b[39miqbal\u001b[39m\u001b[39m'\u001b[39m\n\u001b[0;32m      <a href='vscode-notebook-cell:/d%3A/My%20Python%20Learning/Function.ipynb#W5sZmlsZQ%3D%3D?line=3'>4</a>\u001b[0m     \u001b[39mprint\u001b[39m(first_name,last_name)\n\u001b[1;32m----> <a href='vscode-notebook-cell:/d%3A/My%20Python%20Learning/Function.ipynb#W5sZmlsZQ%3D%3D?line=4'>5</a>\u001b[0m \u001b[39mprint\u001b[39m(first_name)\n\u001b[0;32m      <a href='vscode-notebook-cell:/d%3A/My%20Python%20Learning/Function.ipynb#W5sZmlsZQ%3D%3D?line=5'>6</a>\u001b[0m namee()\n",
      "\u001b[1;31mNameError\u001b[0m: name 'first_name' is not defined"
     ]
    }
   ],
   "source": [
    "def namee():\n",
    "    first_name='JUNAID'\n",
    "    last_name='iqbal'\n",
    "    print(first_name,last_name)\n",
    "print(first_name)\n",
    "namee()\n"
   ]
  },
  {
   "cell_type": "markdown",
   "metadata": {},
   "source": []
  },
  {
   "cell_type": "code",
   "execution_count": null,
   "metadata": {},
   "outputs": [
    {
     "name": "stdout",
     "output_type": "stream",
     "text": [
      "iqbal\n"
     ]
    }
   ],
   "source": [
    "name='iqbal'\n",
    "def namee():\n",
    "    name='junaid'\n",
    "    print(name)\n",
    "print(name)\n",
    "\n"
   ]
  },
  {
   "cell_type": "code",
   "execution_count": null,
   "metadata": {},
   "outputs": [
    {
     "name": "stdout",
     "output_type": "stream",
     "text": [
      "iqbal\n",
      "junaid\n"
     ]
    }
   ],
   "source": [
    "name='iqbal'\n",
    "def namee():\n",
    "    name='junaid'\n",
    "    print(name)\n",
    "print(name)\n",
    "namee()\n",
    "# function override temporarily variable value\n",
    "\n"
   ]
  },
  {
   "attachments": {},
   "cell_type": "markdown",
   "metadata": {},
   "source": [
    "**Q Can we use global variable locally**"
   ]
  },
  {
   "cell_type": "code",
   "execution_count": null,
   "metadata": {},
   "outputs": [
    {
     "name": "stdout",
     "output_type": "stream",
     "text": [
      "junaid\n",
      "junaid\n"
     ]
    }
   ],
   "source": [
    "name='junaid'\n",
    "def namee():\n",
    "    print(name)\n",
    "print(name)\n",
    "namee()\n",
    "\n",
    "# yes we can yes firt time global value print and then we function is call python check that name is not defined locally so it moved forward to global variable and print the gloacal variable\n",
    "\n"
   ]
  },
  {
   "attachments": {},
   "cell_type": "markdown",
   "metadata": {},
   "source": [
    "EXAMPLE OF GLOBAL VARIABLE USED LOCALLY INSIDE FUNCTION\n",
    "\n",
    "**PRINT TABLE USNG FUNCTION**"
   ]
  },
  {
   "cell_type": "code",
   "execution_count": null,
   "metadata": {},
   "outputs": [
    {
     "name": "stdout",
     "output_type": "stream",
     "text": [
      "2 x 1 = 2\n",
      "2 x 2 = 4\n",
      "2 x 3 = 6\n",
      "2 x 4 = 8\n",
      "2 x 5 = 10\n",
      "2 x 6 = 12\n",
      "2 x 7 = 14\n",
      "2 x 8 = 16\n",
      "2 x 9 = 18\n",
      "2 x 10 = 20\n"
     ]
    }
   ],
   "source": [
    "a=2\n",
    "def tab():\n",
    "    for i in range(1,11):\n",
    "        print(a,'x',i,'=',a*i)\n",
    "    \n",
    "tab()"
   ]
  },
  {
   "cell_type": "code",
   "execution_count": null,
   "metadata": {},
   "outputs": [
    {
     "name": "stdout",
     "output_type": "stream",
     "text": [
      "10\n",
      "junaidjunaidjunaidjunaidjunaid\n"
     ]
    }
   ],
   "source": [
    "def a(aa):#parameter\n",
    "    print(aa*2)\n",
    "a(5)\n",
    "def b(bb):\n",
    "    print(bb * 5)\n",
    "b('junaid') "
   ]
  },
  {
   "cell_type": "code",
   "execution_count": null,
   "metadata": {},
   "outputs": [
    {
     "name": "stdout",
     "output_type": "stream",
     "text": [
      "201\n",
      "102\n"
     ]
    }
   ],
   "source": [
    "def aa(x,y): #parameter\n",
    "    c=x+y*100\n",
    "    print(c)\n",
    "aa(1,2)\n",
    "aa(y=1,x=2) #keyword argument"
   ]
  },
  {
   "attachments": {},
   "cell_type": "markdown",
   "metadata": {},
   "source": [
    "**Arbitrary Parameter**"
   ]
  },
  {
   "cell_type": "code",
   "execution_count": null,
   "metadata": {},
   "outputs": [
    {
     "name": "stdout",
     "output_type": "stream",
     "text": [
      "junaid iqbal (2, 3, 4)\n"
     ]
    }
   ],
   "source": [
    "def aa(x,y, *a):\n",
    "    print(x,y,a)\n",
    "aa('junaid','iqbal',2,3,4)"
   ]
  },
  {
   "cell_type": "code",
   "execution_count": null,
   "metadata": {},
   "outputs": [
    {
     "name": "stdout",
     "output_type": "stream",
     "text": [
      "junaid iqbal ('how', 'are', 'you', 1, 2, 3)\n"
     ]
    }
   ],
   "source": [
    "def aa(x,y, *a):\n",
    "    print(x,y,a)\n",
    "aa('junaid','iqbal','how','are','you',1,2,3)"
   ]
  },
  {
   "attachments": {},
   "cell_type": "markdown",
   "metadata": {},
   "source": [
    "**FUNCTION WITHIN FUCTION**"
   ]
  },
  {
   "cell_type": "code",
   "execution_count": null,
   "metadata": {},
   "outputs": [
    {
     "name": "stdout",
     "output_type": "stream",
     "text": [
      "old function\n",
      "new function\n"
     ]
    }
   ],
   "source": [
    "def a():\n",
    "    print('old function')\n",
    "    def b():\n",
    "        print('new function')\n",
    "    b()\n",
    "a()"
   ]
  },
  {
   "attachments": {},
   "cell_type": "markdown",
   "metadata": {},
   "source": [
    "Write a Python function to find the maximum of three numbers."
   ]
  },
  {
   "cell_type": "code",
   "execution_count": null,
   "metadata": {},
   "outputs": [
    {
     "name": "stdout",
     "output_type": "stream",
     "text": [
      "3\n"
     ]
    }
   ],
   "source": [
    "\n",
    "def a(x,y,z):\n",
    "    b=[]\n",
    "    b.append(x)\n",
    "    b.append(y)\n",
    "    b.append(z)\n",
    "    print(max(b))\n",
    "    \n",
    "a(1,2,3)"
   ]
  }
 ],
 "metadata": {
  "kernelspec": {
   "display_name": "Python 3",
   "language": "python",
   "name": "python3"
  },
  "language_info": {
   "codemirror_mode": {
    "name": "ipython",
    "version": 3
   },
   "file_extension": ".py",
   "mimetype": "text/x-python",
   "name": "python",
   "nbconvert_exporter": "python",
   "pygments_lexer": "ipython3",
   "version": "3.9.10"
  },
  "orig_nbformat": 4
 },
 "nbformat": 4,
 "nbformat_minor": 2
}
